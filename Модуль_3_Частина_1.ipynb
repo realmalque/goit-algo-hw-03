{
  "nbformat": 4,
  "nbformat_minor": 0,
  "metadata": {
    "colab": {
      "provenance": [],
      "include_colab_link": true
    },
    "kernelspec": {
      "name": "python3",
      "display_name": "Python 3"
    },
    "language_info": {
      "name": "python"
    }
  },
  "cells": [
    {
      "cell_type": "markdown",
      "metadata": {
        "id": "view-in-github",
        "colab_type": "text"
      },
      "source": [
        "<a href=\"https://colab.research.google.com/github/realmalque/goit-algo-hw-03/blob/main/%D0%9C%D0%BE%D0%B4%D1%83%D0%BB%D1%8C_3_%D0%A7%D0%B0%D1%81%D1%82%D0%B8%D0%BD%D0%B0_1.ipynb\" target=\"_parent\"><img src=\"https://colab.research.google.com/assets/colab-badge.svg\" alt=\"Open In Colab\"/></a>"
      ]
    },
    {
      "cell_type": "markdown",
      "metadata": {
        "id": "OeHSz3_b5ehN"
      },
      "source": [
        "# Задачі для заняття п'ятого дня\n",
        "\n",
        "Для самостійного опрацювання і спроб запускати всі існуючі задачі не заважаючи іншим студентам курсу потрібно здійснити наступні кроки:\n",
        "\n",
        "1. Натиснути кнопку \"Файл\" в лівому верхньому куті\n",
        "2. Вибрати пункт \"Зберегти копію на диску\"\n",
        "3. У вікні з вашою копією у правому верхньому куті натиснути \"Підключитись\"\n",
        "\n",
        "Можете запускати всі задачі, які забажаєте і писати власні програми вивчаючи функціонал цього середовища"
      ]
    },
    {
      "cell_type": "markdown",
      "metadata": {
        "id": "hWZfpygXTgKl"
      },
      "source": [
        "## Робота з датою та часом (datetime)\n",
        "### datetime"
      ]
    },
    {
      "cell_type": "markdown",
      "source": [
        "Клас `datetime.datetime(year, month, day, hour=0, minute=0, second=0, microsecond=0, tzinfo=None)` - комбінація дати і часу.\n",
        "\n",
        "Обов'язкові аргументи:\n",
        "\n",
        "`datetime.MINYEAR (1) ≤ year ≤ datetime.MAXYEAR (9999)`\n",
        "\n",
        "1 ≤ month ≤ 12\n",
        "\n",
        "1 ≤ day ≤ кількість днів у даному місяці та році\n",
        "\n",
        "Необов'язкові:\n",
        "\n",
        "0 ≤ minute < 60\n",
        "0 ≤ second < 60\n",
        "0 ≤ microsecond < 1000000"
      ],
      "metadata": {
        "id": "-s3sX89O7u6B"
      }
    },
    {
      "cell_type": "markdown",
      "source": [
        "**Методи класу** `datetime`:\n",
        "\n",
        "`datetime.today()` - об'єкт datetime з поточної дати і часу. Працює так само, як і datetime.now() зі значенням tz=None.\n",
        "\n",
        "`datetime.fromtimestamp(timestamp)` - дата зі стандартного подання часу.\n",
        "\n",
        "`datetime.fromordinal(ordinal)` - дата з числа, що являє собою кількість днів, що минули з 01.01.1970.\n",
        "\n",
        "`datetime.now(tz=None)` - об'єкт datetime з поточної дати і часу.\n",
        "\n",
        "`datetime.combine(date, time)` - об'єкт datetime з комбінації об'єктів date і time.\n",
        "\n",
        "`datetime.strptime(date_string, format)` - перетворює рядок у datetime (так само, як і функція strptime з модуля time).\n",
        "\n",
        "`datetime.strftime(format)` - див. функцію strftime з модуля time.\n",
        "\n",
        "`datetime.date()` - об'єкт дати (з відсіканням часу).\n",
        "\n",
        "`datetime.time()` - об'єкт часу (з відсіканням дати).\n",
        "\n",
        "`datetime.replace([year[, month[, day[, hour[, minute[, second[, microsecond[, tzinfo]]]]]]]])` - повертає новий об'єкт datetime зі зміненими атрибутами.\n",
        "\n",
        "`datetime.timetuple()` - повертає struct_time з datetime.\n",
        "\n",
        "`datetime.toordinal()` - кількість днів, що минули з 01.01.1970.\n",
        "\n",
        "`datetime.timestamp()` - повертає час у секундах з початку епохи.\n",
        "\n",
        "`datetime.weekday()` - день тижня у вигляді числа, понеділок - 0, неділя - 6.\n",
        "\n",
        "`datetime.isoweekday()` - день тижня у вигляді числа, понеділок - 1, неділя - 7.\n",
        "\n",
        "`datetime.isocalendar()` - кортеж (рік у форматі ISO, ISO номер тижня, ISO день тижня).\n",
        "\n",
        "`datetime.isoformat(sep='T')` - красивий рядок вигляду \"YYYYY-MM-DDTHH:MM:SS.mmmmmm\" або, якщо microsecond == 0, \"YYYY-MM-DDTHH:MM:SS\"\n",
        "\n",
        "`datetime.ctime([сек])` - перетворює час, виражений у секундах від початку епохи, у рядок виду \"Thu Sep 27 16:42:37 2012\"."
      ],
      "metadata": {
        "id": "8Oj2_N2G7yMF"
      }
    },
    {
      "cell_type": "code",
      "source": [
        "from datetime import datetime\n",
        "\n",
        "# from datetime import *\n",
        "current_date = datetime.now()\n",
        "date_today = datetime.today()\n",
        "\n",
        "# import datetime\n",
        "# current_date = datetime.datetime.now()\n",
        "# date_today = datetime.datetime.today()\n",
        "\n",
        "print(current_date)\n",
        "print(date_today)\n",
        "\n",
        "print(current_date.date())\n",
        "print(current_date.time())\n",
        "print(current_date.year, current_date.month, current_date.day, current_date.hour)"
      ],
      "metadata": {
        "id": "cGBDoh7p8Qh6"
      },
      "execution_count": null,
      "outputs": []
    },
    {
      "cell_type": "markdown",
      "source": [
        "### timedelta\n",
        "Клас datetime.timedelta - різниця між двома моментами часу, з точністю до мікросекунд.\n",
        "\n",
        "Розглянемо таке завдання. Наприклад лікар прописала пацієнтові приймати ліки протягом 45 днів. Треба знайти дату закінчення приймання ліків від поточної дати."
      ],
      "metadata": {
        "id": "IL6iPQIh8PMt"
      }
    },
    {
      "cell_type": "code",
      "source": [
        "from datetime import datetime, timedelta\n",
        "\n",
        "current_date = datetime.now()\n",
        "print(current_date)\n",
        "\n",
        "interval = timedelta(days=45)\n",
        "day_on = current_date-interval\n",
        "day_off = current_date+interval\n",
        "print(day_on)\n",
        "print(day_off)\n",
        "count_days = day_off-day_on\n",
        "print(count_days.days)"
      ],
      "metadata": {
        "id": "aCS6QNUr8WS3"
      },
      "execution_count": null,
      "outputs": []
    },
    {
      "cell_type": "markdown",
      "source": [
        "### timestamp\n",
        "\n",
        "Це кількість секунд, що минула з 00 годин 00 хвилин 1 Січня 1970 року в UTC Е(часовий пояс Гринвіча)."
      ],
      "metadata": {
        "id": "TH2MI8V88b9S"
      }
    },
    {
      "cell_type": "code",
      "source": [
        "from datetime import datetime\n",
        "\n",
        "current_date = datetime.now()\n",
        "print(current_date.timestamp())\n",
        "\n",
        "day_zero = datetime.fromtimestamp(0)\n",
        "print(day_zero)\n",
        "print(current_date > day_zero)\n",
        "\n",
        "datetime_string = '1970:01:01 January Jan 02 02 00'\n",
        "\n",
        "print(datetime.strptime(datetime_string, '%Y:%m:%d %B %b %H %I %M'))\n",
        "print(current_date.strftime('%Y-%m:%d'), current_date)"
      ],
      "metadata": {
        "id": "7Ow-h0MU8cHm"
      },
      "execution_count": null,
      "outputs": []
    },
    {
      "cell_type": "code",
      "source": [
        "from datetime import datetime\n",
        "\n",
        "current_date = '2024-05-01'\n",
        "\n",
        "requested_day = datetime.strptime(current_date, '%Y-%m-%d').date()\n",
        "print(requested_day)\n",
        "\n",
        "today_date = datetime.now().date()\n",
        "print(today_date)\n",
        "diff_day = today_date - requested_day\n",
        "print('days', diff_day.days)\n",
        "print('weeks', round(diff_day.days // 7))\n"
      ],
      "metadata": {
        "id": "TMGP5ksEkAx2"
      },
      "execution_count": null,
      "outputs": []
    },
    {
      "cell_type": "code",
      "source": [
        "from datetime import datetime\n",
        "\n",
        "day_2021 = datetime(year=2021, month=4, day=7, hour=12).date()\n",
        "print(day_2021)"
      ],
      "metadata": {
        "id": "GAe_4YhWWMXy"
      },
      "execution_count": null,
      "outputs": []
    },
    {
      "cell_type": "code",
      "source": [
        "from datetime import datetime, date\n",
        "\n",
        "days_name = {\n",
        "    0: \"Monday\",\n",
        "    1: \"Tuesday\",\n",
        "    2: \"Wednesday\",\n",
        "    3: \"Thursday\",\n",
        "    4: \"Friday\",\n",
        "    5: \"Saturday\",\n",
        "    6: \"Sunday\",\n",
        "}\n",
        "\n",
        "def day_of_year(full_date):\n",
        "    year, month, day = full_date.split('-')\n",
        "    day_of_week = datetime(year=int(year), month=int(month), day=int(day)).weekday()\n",
        "    return days_name.get(day_of_week)\n",
        "\n",
        "print(day_of_year('2021-02-13'))"
      ],
      "metadata": {
        "id": "-4sVCg9M5c1T"
      },
      "execution_count": null,
      "outputs": []
    },
    {
      "cell_type": "markdown",
      "source": [
        "## Генерація випадкових чисел"
      ],
      "metadata": {
        "id": "NRSlySlu8dFf"
      }
    },
    {
      "cell_type": "markdown",
      "source": [
        "Методи модуля `random`:\n",
        "\n",
        "- `random.seed([X], version=2)` - ініціалізація генератора випадкових чисел. Якщо X не вказано, використовується системний час.\n",
        "\n",
        "- `random.getstate()` - внутрішній стан генератора.\n",
        "\n",
        "- `random.setstate(state)` - відновлює внутрішній стан генератора. Параметр state має бути отриманий функцією getstate().\n",
        "\n",
        "- `random.getrandbits(N)` - повертає N випадкових біт.\n",
        "\n",
        "- `random.randrange(start, stop, step)` - повертає випадково вибране число з послідовності.\n",
        "\n",
        "- `random.randint(A, B)` - випадкове ціле число N, A ≤ N ≤ B.\n",
        "\n",
        "- `random.choice(sequence)` - випадковий елемент непорожньої послідовності.\n",
        "\n",
        "- `random.shuffle(sequence, [rand])` - перемішує послідовність (змінюється сама послідовність). Тому функція не працює для незмінних об'єктів.\n",
        "\n",
        "- `random.sample(population, k)` - список довжиною k із послідовності population.\n",
        "\n",
        "- `random.random()` - випадкове число від 0 до 1.\n",
        "\n",
        "- `random.uniform(A, B)` - випадкове число з плаваючою крапкою, A ≤ N ≤ B (або B ≤ N ≤ A)."
      ],
      "metadata": {
        "id": "JdPE6XTf8lKC"
      }
    },
    {
      "cell_type": "code",
      "source": [
        "import random\n",
        "\n",
        "print(random.randint(0, 100))\n",
        "print(random.randrange(0, 100, 7))\n",
        "print(random.choice(['black', 'white', 'red']))\n",
        "print(random.choices(['black', 'white', 'red'], k=6, weights=[0, 7, 5]))\n",
        "\n",
        "range_list = list(range(10))\n",
        "print(range_list)\n",
        "random.shuffle(range_list)\n",
        "print(range_list)"
      ],
      "metadata": {
        "id": "sjdNiDxb8kbF"
      },
      "execution_count": null,
      "outputs": []
    },
    {
      "cell_type": "code",
      "source": [
        "from random import randint, sample\n",
        "min_value = -10\n",
        "max_value = 10\n",
        "length = 10\n",
        "\n",
        "result_array = set()\n",
        "while len(result_array) != length:\n",
        "    result_array.add(randint(min_value, max_value))\n",
        "\n",
        "print(sorted(list(result_array)))\n",
        "\n",
        "print(sorted(sample(range(min_value, max_value), length)))"
      ],
      "metadata": {
        "id": "EObUhRQElEUz"
      },
      "execution_count": null,
      "outputs": []
    },
    {
      "cell_type": "markdown",
      "source": [
        "## Можливості пакетів math, cmath"
      ],
      "metadata": {
        "id": "QAT1gUl4-aN8"
      }
    },
    {
      "cell_type": "markdown",
      "source": [
        "|Function name| Explanation|\n",
        "| --- | --- |\n",
        "|ceil(x)|Returns the smallest integer greater than or equal to x.|\n",
        "|copysign(x, y)|Returns x with the sign of y|\n",
        "|fabs(x)|Returns the absolute value of x|\n",
        "|factorial(x)  |Returns the factorial of x|\n",
        "|floor(x)  |Returns the largest integer less than or equal to x|\n",
        "|fmod(x, y)|Returns the remainder when x is divided by y|\n",
        "|frexp(x)  |Returns the mantissa and exponent of x as the pair (m, e)|\n",
        "|fsum(iterable)|Returns an accurate floating point sum of values in the iterable|\n",
        "|isfinite(x)   |Returns True if x is neither an infinity nor a NaN (Not a Number)|\n",
        "|isinf(x)  |Returns True if x is a positive or negative infinity|\n",
        "|isnan(x)  |Returns True if x is a NaN|\n",
        "|ldexp(x, i)   |Returns x * (2**i)|\n",
        "|modf(x)   |Returns the fractional and integer parts of x|\n",
        "|trunc(x)  |Returns the truncated integer value of x|\n",
        "|exp(x)|Returns e**x|\n",
        "|expm1(x)  |Returns e**x - 1|\n",
        "|log(x[, base])|Returns the logarithm of x to the base (defaults to e)|\n",
        "|log1p(x)  |Returns the natural logarithm of 1+x|\n",
        "|log2(x)   |Returns the base-2 logarithm of x|\n",
        "|log10(x)  |Returns the base-10 logarithm of x|\n",
        "|pow(x, y) |Returns x raised to the power y|\n",
        "|sqrt(x)   |Returns the square root of x|\n",
        "|acos(x)   |Returns the arc cosine of x|\n",
        "|asin(x)   |Returns the arc sine of x|\n",
        "|atan(x)   |Returns the arc tangent of x|\n",
        "|atan2(y, x)   |Returns atan(y / x)|\n",
        "|cos(x)|Returns the cosine of x|\n",
        "|hypot(x, y)   |Returns the Euclidean norm, sqrt(x*x + y*y)|\n",
        "|sin(x)|Returns the sine of x|\n",
        "|tan(x)|Returns the tangent of x|\n",
        "|degrees(x) |  Converts angle x from radians to degrees|\n",
        "|radians(x) |Converts angle x from degrees to radians|\n",
        "|acosh(x)  |Returns the inverse hyperbolic cosine of x|\n",
        "|asinh(x)  |Returns the inverse hyperbolic sine of x|\n",
        "|atanh(x)  |Returns the inverse hyperbolic tangent of x|\n",
        "|cosh(x)   |Returns the hyperbolic cosine of x|\n",
        "|sinh(x)   |Returns the hyperbolic cosine of x|\n",
        "|tanh(x)   |Returns the hyperbolic tangent of x|\n",
        "|erf(x)|Returns the error function at x|\n",
        "|erfc(x)   |Returns the complementary error function at x|\n",
        "|gamma(x)  |Returns the Gamma function at x|\n",
        "|lgamma(x) |Returns the natural logarithm of the absolute value of the Gamma function at x|\n",
        "|pi  |Mathematical constant, the ratio of circumference of a circle to it's diameter (3.14159...)|\n",
        "|e  | mathematical constant e (2.71828...)|"
      ],
      "metadata": {
        "id": "YGA0lSzr-lAy"
      }
    },
    {
      "cell_type": "code",
      "source": [
        "from math import sqrt, pow, pi\n",
        "\n",
        "print(sqrt(pow(pi, 5)))"
      ],
      "metadata": {
        "id": "c4PRr6Q0-kXy"
      },
      "execution_count": null,
      "outputs": []
    },
    {
      "cell_type": "code",
      "source": [],
      "metadata": {
        "id": "_tk4uGJ56xOs"
      },
      "execution_count": null,
      "outputs": []
    }
  ]
}